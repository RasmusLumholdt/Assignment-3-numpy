{
 "cells": [
  {
   "cell_type": "code",
   "execution_count": null,
   "metadata": {},
   "outputs": [],
   "source": []
  },
  {
   "cell_type": "markdown",
   "metadata": {},
   "source": [
    "Opgave 1:\n",
    "laver kkdata til 2d array og finder antallet af \"native\" og ikke \"native\" engelsk talene borgere"
   ]
  },
  {
   "cell_type": "code",
   "execution_count": 1,
   "metadata": {},
   "outputs": [
    {
     "data": {
      "text/plain": [
       "(5088, 575207)"
      ]
     },
     "execution_count": 1,
     "metadata": {},
     "output_type": "execute_result"
    }
   ],
   "source": [
    "import module1\n",
    "\n",
    "module1.find_native_and_non_native_english_speakers()"
   ]
  },
  {
   "cell_type": "markdown",
   "metadata": {},
   "source": []
  },
  {
   "cell_type": "code",
   "execution_count": 7,
   "metadata": {},
   "outputs": [
    {
     "name": "stdout",
     "output_type": "stream",
     "text": [
      "Swedes:\n",
      "[[2015    1    0 5120    4]\n",
      " [2015    1    1 5120    4]\n",
      " [2015    1    2 5120    3]\n",
      " ...\n",
      " [1992   99   53 5120    1]\n",
      " [1992   99   54 5120    1]\n",
      " [1992   99   55 5120    1]]\n",
      "\n",
      "Year 1999:\n",
      "[[1999    1    0 5100  543]\n",
      " [1999    1    0 5103    1]\n",
      " [1999    1    0 5104    1]\n",
      " ...\n",
      " [1999   99   86 5100    1]\n",
      " [1999   99   94 5100    1]\n",
      " [1999   99  100 5100    1]]\n"
     ]
    }
   ],
   "source": [
    "data = module1.get_data_arr()\n",
    "\n",
    "mask_swedish = data[:,3] == 5120\n",
    "mask_year = data[:,0] == 1999\n",
    "\n",
    "#Find Swedes\n",
    "arr1 = module1.mask_certain_data(data, mask_swedish)\n",
    "\n",
    "#Find dataf for year 1999\n",
    "arr2 = module1.mask_certain_data(data, mask_year)\n",
    "\n",
    "print(\"Swedes:\\n\"+str(arr1) + \"\\n\\nYear 1999:\\n\" + str(arr2))"
   ]
  },
  {
   "cell_type": "code",
   "execution_count": null,
   "metadata": {},
   "outputs": [],
   "source": []
  }
 ],
 "metadata": {
  "kernelspec": {
   "display_name": "Python 3",
   "language": "python",
   "name": "python3"
  },
  "language_info": {
   "codemirror_mode": {
    "name": "ipython",
    "version": 3
   },
   "file_extension": ".py",
   "mimetype": "text/x-python",
   "name": "python",
   "nbconvert_exporter": "python",
   "pygments_lexer": "ipython3",
   "version": "3.6.5"
  }
 },
 "nbformat": 4,
 "nbformat_minor": 2
}
